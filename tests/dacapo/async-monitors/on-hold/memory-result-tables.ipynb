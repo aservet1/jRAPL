{
 "metadata": {
  "language_info": {
   "codemirror_mode": {
    "name": "ipython",
    "version": 3
   },
   "file_extension": ".py",
   "mimetype": "text/x-python",
   "name": "python",
   "nbconvert_exporter": "python",
   "pygments_lexer": "ipython3",
   "version": "3.8.5-final"
  },
  "orig_nbformat": 2,
  "kernelspec": {
   "name": "python3",
   "display_name": "Python 3.8.5 64-bit",
   "metadata": {
    "interpreter": {
     "hash": "31f2aee4e71d21fbe5cf8b01ff0e069b9275f58929596ceb00d14d90e3e16cd6"
    }
   }
  }
 },
 "nbformat": 4,
 "nbformat_minor": 2,
 "cells": [
  {
   "cell_type": "code",
   "execution_count": 4,
   "metadata": {},
   "outputs": [],
   "source": [
    "import os\n",
    "import json\n",
    "import pandas as pd\n",
    "\n",
    "from tabulate import tabulate"
   ]
  },
  {
   "cell_type": "code",
   "execution_count": 5,
   "metadata": {},
   "outputs": [],
   "source": [
    "def json_from_file(filename): # assumes the file is in JSON format\n",
    "    with open(filename) as f: data = json.loads(f.read())\n",
    "    return data\n",
    "\n",
    "def no_dupes(l): # abstract ou[ d['metadata']['benchmark'] for d in data ]t the whole weird list/set method of removing duplicates\n",
    "    return list(set(l))"
   ]
  },
  {
   "cell_type": "code",
   "execution_count": 6,
   "metadata": {},
   "outputs": [],
   "source": [
    "data_directory = \"/home/alejandro/jRAPL/tests/dacapo/async-monitors/results/jolteon-results\"\n",
    "os.chdir(data_directory)"
   ]
  },
  {
   "cell_type": "code",
   "execution_count": 7,
   "metadata": {},
   "outputs": [
    {
     "output_type": "display_data",
     "data": {
      "text/plain": "{'metadata': {'samplingRate': 1,\n  'lifetime': 3582.25,\n  'numSamples': 3278.75,\n  'benchmark': 'tomcat',\n  'iteration': 'AGGREGATE',\n  'monitor_type': 'c-dynamicarray'},\n 'memory': {'jraplon': {'avg': 170774395.479221,\n   'stdev': 172333165.04320914,\n   'global_min': 465019760,\n   'global_max': 18953384,\n   'avg_min': 478279668,\n   'avg_max': 17897346,\n   'median_median': 145086648.0,\n   'average_median': 144467450.0},\n  'jraploff': {'avg': 152544363.90966853,\n   'stdev': 152620262.56520727,\n   'global_min': 467846424,\n   'global_max': 18876360,\n   'avg_min': 481126746,\n   'avg_max': 17840994,\n   'median_median': 119934372.0,\n   'average_median': 119473442.0}},\n 'persocket': {'1': {'dram': {'energy-per-sample': {'avg': 0.0008819540843573255,\n     'stdev': 0.0011131012350601853,\n     'num_samples': 3277.75}},\n   'pkg': {'energy-per-sample': {'avg': 0.0213188391427078,\n     'stdev': 0.007888219898613196,\n     'num_samples': 3277.75}},\n   'time-between-samples': {'avg': 1092.9260163221722,\n    'stdev': 53.49063202818627,\n    'num_samples': 3277.75}}}}"
     },
     "metadata": {}
    }
   ],
   "source": [
    "filenames = [ _ for _ in os.listdir() if _.endswith('.aggregate-stats.json') ]\n",
    "data = [ json_from_file(filename) for filename in filenames ]\n",
    "display(data[0])"
   ]
  },
  {
   "cell_type": "code",
   "execution_count": 72,
   "metadata": {},
   "outputs": [],
   "source": [
    "#def percent_difference(a, b, round_to=5):\n",
    "#    return round( ((a-b)/b)*100, round_to) \n",
    "\n",
    "def diff_tuple(a,b,r=4):\n",
    "    diff = a-b\n",
    "    percent_diff = (diff/b) * 100\n",
    "    return  ( round(float(percent_diff),r) , round(float(diff),r) )\n",
    "\n",
    "def memory_comparison(memdata):\n",
    "    jraplon  = memdata['jraplon']\n",
    "    jraploff = memdata['jraploff']\n",
    "    res = {}\n",
    "\n",
    "    \"\"\"should i be subtracting stdev? its not in the current list, but if i add it as an item of the list then itll work in just fine\"\"\"\n",
    "\n",
    "    for v in ['avg' , 'median_median' , 'average_median' , 'global_min' , 'global_max' , 'avg_min' , 'avg_max' ]:\n",
    "        tup = diff_tuple(jraplon[v],jraploff[v])\n",
    "        res[v] = tup #\"(%.4f,  %.4f)\" % (tup[0],tup[1])\n",
    "    return res\n",
    "\n",
    "def monitor_ranking(data):\n",
    "    for v in ['avg' , 'median_median' , 'average_median' , 'global_min' , 'global_max' , 'avg_min' , 'avg_max' ]:\n",
    "        #print([ data[monitor_type][v] for monitor_type in data ])\n",
    "        for monitor_type in list(set(data)):\n",
    "            print(monitor_type)\n",
    "            #print(data[monitor_type])\n",
    "    return 1111111111\n"
   ]
  },
  {
   "cell_type": "code",
   "execution_count": 73,
   "metadata": {
    "tags": []
   },
   "outputs": [
    {
     "output_type": "stream",
     "name": "stdout",
     "text": [
      "c-dynamicarray\nc-dynamicarray\nc-dynamicarray\nc-dynamicarray\nc-dynamicarray\nc-dynamicarray\nc-dynamicarray\nc-dynamicarray\nc-dynamicarray\nc-dynamicarray\nc-dynamicarray\nc-dynamicarray\nc-dynamicarray\nc-dynamicarray\njava\njava\njava\njava\njava\njava\njava\nc-dynamicarray\nc-dynamicarray\nc-dynamicarray\nc-dynamicarray\nc-dynamicarray\nc-dynamicarray\nc-dynamicarray\njava\njava\njava\njava\njava\njava\njava\nc-linklist\nc-linklist\nc-linklist\nc-linklist\nc-linklist\nc-linklist\nc-linklist\nc-dynamicarray\nc-dynamicarray\nc-dynamicarray\nc-dynamicarray\nc-dynamicarray\nc-dynamicarray\nc-dynamicarray\nc-linklist\nc-linklist\nc-linklist\nc-linklist\nc-linklist\nc-linklist\nc-linklist\nc-dynamicarray\nmonitor_rank\nc-linklist\nc-dynamicarray\nmonitor_rank\nc-linklist\nc-dynamicarray\nmonitor_rank\nc-linklist\nc-dynamicarray\nmonitor_rank\nc-linklist\nc-dynamicarray\nmonitor_rank\nc-linklist\nc-dynamicarray\nmonitor_rank\nc-linklist\nc-dynamicarray\nmonitor_rank\nc-linklist\njava\nmonitor_rank\nc-linklist\njava\nmonitor_rank\nc-linklist\njava\nmonitor_rank\nc-linklist\njava\nmonitor_rank\nc-linklist\njava\nmonitor_rank\nc-linklist\njava\nmonitor_rank\nc-linklist\njava\nmonitor_rank\nc-linklist\njava\njava\njava\njava\njava\njava\njava\nc-linklist\nc-linklist\nc-linklist\nc-linklist\nc-linklist\nc-linklist\nc-linklist\nc-linklist\nc-linklist\nc-linklist\nc-linklist\nc-linklist\nc-linklist\nc-linklist\nc-linklist\nc-linklist\nc-linklist\nc-linklist\nc-linklist\nc-linklist\nc-linklist\nc-dynamicarray\nc-dynamicarray\nc-dynamicarray\nc-dynamicarray\nc-dynamicarray\nc-dynamicarray\nc-dynamicarray\njava\nmonitor_rank\nc-linklist\njava\nmonitor_rank\nc-linklist\njava\nmonitor_rank\nc-linklist\njava\nmonitor_rank\nc-linklist\njava\nmonitor_rank\nc-linklist\njava\nmonitor_rank\nc-linklist\njava\nmonitor_rank\nc-linklist\njava\nmonitor_rank\nc-linklist\njava\nmonitor_rank\nc-linklist\njava\nmonitor_rank\nc-linklist\njava\nmonitor_rank\nc-linklist\njava\nmonitor_rank\nc-linklist\njava\nmonitor_rank\nc-linklist\njava\nmonitor_rank\nc-linklist\njava\nmonitor_rank\nc-linklist\njava\nmonitor_rank\nc-linklist\njava\nmonitor_rank\nc-linklist\njava\nmonitor_rank\nc-linklist\njava\nmonitor_rank\nc-linklist\njava\nmonitor_rank\nc-linklist\njava\nmonitor_rank\nc-linklist\njava\njava\njava\njava\njava\njava\njava\njava\njava\njava\njava\njava\njava\njava\njava\njava\njava\njava\njava\njava\njava\njava\njava\njava\njava\njava\njava\njava\nc-linklist\nc-linklist\nc-linklist\nc-linklist\nc-linklist\nc-linklist\nc-linklist\njava\nc-dynamicarray\nmonitor_rank\nc-linklist\njava\nc-dynamicarray\nmonitor_rank\nc-linklist\njava\nc-dynamicarray\nmonitor_rank\nc-linklist\njava\nc-dynamicarray\nmonitor_rank\nc-linklist\njava\nc-dynamicarray\nmonitor_rank\nc-linklist\njava\nc-dynamicarray\nmonitor_rank\nc-linklist\njava\nc-dynamicarray\nmonitor_rank\nc-linklist\njava\nc-dynamicarray\nmonitor_rank\njava\nc-dynamicarray\nmonitor_rank\njava\nc-dynamicarray\nmonitor_rank\njava\nc-dynamicarray\nmonitor_rank\njava\nc-dynamicarray\nmonitor_rank\njava\nc-dynamicarray\nmonitor_rank\njava\nc-dynamicarray\nmonitor_rank\njava\njava\njava\njava\njava\njava\njava\njava\nc-dynamicarray\nmonitor_rank\njava\nc-dynamicarray\nmonitor_rank\njava\nc-dynamicarray\nmonitor_rank\njava\nc-dynamicarray\nmonitor_rank\njava\nc-dynamicarray\nmonitor_rank\njava\nc-dynamicarray\nmonitor_rank\njava\nc-dynamicarray\nmonitor_rank\njava\njava\njava\njava\njava\njava\njava\njava\nc-dynamicarray\nmonitor_rank\njava\nc-dynamicarray\nmonitor_rank\njava\nc-dynamicarray\nmonitor_rank\njava\nc-dynamicarray\nmonitor_rank\njava\nc-dynamicarray\nmonitor_rank\njava\nc-dynamicarray\nmonitor_rank\njava\nc-dynamicarray\nmonitor_rank\njava\nc-dynamicarray\nmonitor_rank\nc-linklist\njava\nc-dynamicarray\nmonitor_rank\nc-linklist\njava\nc-dynamicarray\nmonitor_rank\nc-linklist\njava\nc-dynamicarray\nmonitor_rank\nc-linklist\njava\nc-dynamicarray\nmonitor_rank\nc-linklist\njava\nc-dynamicarray\nmonitor_rank\nc-linklist\njava\nc-dynamicarray\nmonitor_rank\nc-linklist\njava\nmonitor_rank\nc-linklist\njava\nmonitor_rank\nc-linklist\njava\nmonitor_rank\nc-linklist\njava\nmonitor_rank\nc-linklist\njava\nmonitor_rank\nc-linklist\njava\nmonitor_rank\nc-linklist\njava\nmonitor_rank\nc-linklist\njava\nc-dynamicarray\nmonitor_rank\nc-linklist\njava\nc-dynamicarray\nmonitor_rank\nc-linklist\njava\nc-dynamicarray\nmonitor_rank\nc-linklist\njava\nc-dynamicarray\nmonitor_rank\nc-linklist\njava\nc-dynamicarray\nmonitor_rank\nc-linklist\njava\nc-dynamicarray\nmonitor_rank\nc-linklist\njava\nc-dynamicarray\nmonitor_rank\nc-linklist\njava\nmonitor_rank\nc-linklist\njava\nmonitor_rank\nc-linklist\njava\nmonitor_rank\nc-linklist\njava\nmonitor_rank\nc-linklist\njava\nmonitor_rank\nc-linklist\njava\nmonitor_rank\nc-linklist\njava\nmonitor_rank\nc-linklist\nc-dynamicarray\nmonitor_rank\nc-linklist\nc-dynamicarray\nmonitor_rank\nc-linklist\nc-dynamicarray\nmonitor_rank\nc-linklist\nc-dynamicarray\nmonitor_rank\nc-linklist\nc-dynamicarray\nmonitor_rank\nc-linklist\nc-dynamicarray\nmonitor_rank\nc-linklist\nc-dynamicarray\nmonitor_rank\nc-linklist\njava\nc-dynamicarray\nmonitor_rank\nc-linklist\njava\nc-dynamicarray\nmonitor_rank\nc-linklist\njava\nc-dynamicarray\nmonitor_rank\nc-linklist\njava\nc-dynamicarray\nmonitor_rank\nc-linklist\njava\nc-dynamicarray\nmonitor_rank\nc-linklist\njava\nc-dynamicarray\nmonitor_rank\nc-linklist\njava\nc-dynamicarray\nmonitor_rank\nc-linklist\njava\nc-dynamicarray\nmonitor_rank\njava\nc-dynamicarray\nmonitor_rank\njava\nc-dynamicarray\nmonitor_rank\njava\nc-dynamicarray\nmonitor_rank\njava\nc-dynamicarray\nmonitor_rank\njava\nc-dynamicarray\nmonitor_rank\njava\nc-dynamicarray\nmonitor_rank\njava\nc-dynamicarray\nmonitor_rank\njava\nc-dynamicarray\nmonitor_rank\njava\nc-dynamicarray\nmonitor_rank\njava\nc-dynamicarray\nmonitor_rank\njava\nc-dynamicarray\nmonitor_rank\njava\nc-dynamicarray\nmonitor_rank\njava\nc-dynamicarray\nmonitor_rank\njava\nc-dynamicarray\nmonitor_rank\nc-linklist\njava\nc-dynamicarray\nmonitor_rank\nc-linklist\njava\nc-dynamicarray\nmonitor_rank\nc-linklist\njava\nc-dynamicarray\nmonitor_rank\nc-linklist\njava\nc-dynamicarray\nmonitor_rank\nc-linklist\njava\nc-dynamicarray\nmonitor_rank\nc-linklist\njava\nc-dynamicarray\nmonitor_rank\nc-linklist\njava\nc-dynamicarray\nmonitor_rank\nc-linklist\njava\nc-dynamicarray\nmonitor_rank\nc-linklist\njava\nc-dynamicarray\nmonitor_rank\nc-linklist\njava\nc-dynamicarray\nmonitor_rank\nc-linklist\njava\nc-dynamicarray\nmonitor_rank\nc-linklist\njava\nc-dynamicarray\nmonitor_rank\nc-linklist\njava\nc-dynamicarray\nmonitor_rank\nc-linklist\njava\nc-dynamicarray\nmonitor_rank\nc-linklist\njava\nc-dynamicarray\nmonitor_rank\nc-linklist\njava\nc-dynamicarray\nmonitor_rank\nc-linklist\njava\nc-dynamicarray\nmonitor_rank\nc-linklist\njava\nc-dynamicarray\nmonitor_rank\nc-linklist\njava\nc-dynamicarray\nmonitor_rank\nc-linklist\njava\nc-dynamicarray\nmonitor_rank\nc-linklist\njava\nc-dynamicarray\nmonitor_rank\njava\nc-dynamicarray\nmonitor_rank\njava\nc-dynamicarray\nmonitor_rank\njava\nc-dynamicarray\nmonitor_rank\njava\nc-dynamicarray\nmonitor_rank\njava\nc-dynamicarray\nmonitor_rank\njava\nc-dynamicarray\nmonitor_rank\njava\nc-dynamicarray\nmonitor_rank\njava\nc-dynamicarray\nmonitor_rank\njava\nc-dynamicarray\nmonitor_rank\njava\nc-dynamicarray\nmonitor_rank\njava\nc-dynamicarray\nmonitor_rank\njava\nc-dynamicarray\nmonitor_rank\njava\nc-dynamicarray\nmonitor_rank\njava\nmonitor_rank\nc-linklist\njava\nmonitor_rank\nc-linklist\njava\nmonitor_rank\nc-linklist\njava\nmonitor_rank\nc-linklist\njava\nmonitor_rank\nc-linklist\njava\nmonitor_rank\nc-linklist\njava\nmonitor_rank\nc-linklist\njava\nmonitor_rank\nc-linklist\njava\nmonitor_rank\nc-linklist\njava\nmonitor_rank\nc-linklist\njava\nmonitor_rank\nc-linklist\njava\nmonitor_rank\nc-linklist\njava\nmonitor_rank\nc-linklist\njava\nmonitor_rank\nc-linklist\njava\nc-dynamicarray\nmonitor_rank\njava\nc-dynamicarray\nmonitor_rank\njava\nc-dynamicarray\nmonitor_rank\njava\nc-dynamicarray\nmonitor_rank\njava\nc-dynamicarray\nmonitor_rank\njava\nc-dynamicarray\nmonitor_rank\njava\nc-dynamicarray\nmonitor_rank\njava\nc-dynamicarray\nmonitor_rank\nc-linklist\njava\nc-dynamicarray\nmonitor_rank\nc-linklist\njava\nc-dynamicarray\nmonitor_rank\nc-linklist\njava\nc-dynamicarray\nmonitor_rank\nc-linklist\njava\nc-dynamicarray\nmonitor_rank\nc-linklist\njava\nc-dynamicarray\nmonitor_rank\nc-linklist\njava\nc-dynamicarray\nmonitor_rank\nc-linklist\nc-dynamicarray\nmonitor_rank\nc-linklist\nc-dynamicarray\nmonitor_rank\nc-linklist\nc-dynamicarray\nmonitor_rank\nc-linklist\nc-dynamicarray\nmonitor_rank\nc-linklist\nc-dynamicarray\nmonitor_rank\nc-linklist\nc-dynamicarray\nmonitor_rank\nc-linklist\nc-dynamicarray\nmonitor_rank\nc-linklist\njava\nc-dynamicarray\nmonitor_rank\nc-linklist\njava\nc-dynamicarray\nmonitor_rank\nc-linklist\njava\nc-dynamicarray\nmonitor_rank\nc-linklist\njava\nc-dynamicarray\nmonitor_rank\nc-linklist\njava\nc-dynamicarray\nmonitor_rank\nc-linklist\njava\nc-dynamicarray\nmonitor_rank\nc-linklist\njava\nc-dynamicarray\nmonitor_rank\nc-linklist\njava\nc-dynamicarray\nmonitor_rank\nc-linklist\njava\nc-dynamicarray\nmonitor_rank\nc-linklist\njava\nc-dynamicarray\nmonitor_rank\nc-linklist\njava\nc-dynamicarray\nmonitor_rank\nc-linklist\njava\nc-dynamicarray\nmonitor_rank\nc-linklist\njava\nc-dynamicarray\nmonitor_rank\nc-linklist\njava\nc-dynamicarray\nmonitor_rank\nc-linklist\njava\nc-dynamicarray\nmonitor_rank\nc-linklist\njava\nc-dynamicarray\nmonitor_rank\nc-linklist\njava\nc-dynamicarray\nmonitor_rank\nc-linklist\njava\nc-dynamicarray\nmonitor_rank\nc-linklist\njava\nc-dynamicarray\nmonitor_rank\nc-linklist\njava\nc-dynamicarray\nmonitor_rank\nc-linklist\njava\nc-dynamicarray\nmonitor_rank\nc-linklist\njava\nc-dynamicarray\nmonitor_rank\njava\nc-dynamicarray\nmonitor_rank\njava\nc-dynamicarray\nmonitor_rank\njava\nc-dynamicarray\nmonitor_rank\njava\nc-dynamicarray\nmonitor_rank\njava\nc-dynamicarray\nmonitor_rank\njava\nc-dynamicarray\nmonitor_rank\njava\nc-dynamicarray\nmonitor_rank\nc-linklist\njava\nc-dynamicarray\nmonitor_rank\nc-linklist\njava\nc-dynamicarray\nmonitor_rank\nc-linklist\njava\nc-dynamicarray\nmonitor_rank\nc-linklist\njava\nc-dynamicarray\nmonitor_rank\nc-linklist\njava\nc-dynamicarray\nmonitor_rank\nc-linklist\njava\nc-dynamicarray\nmonitor_rank\nc-linklist\njava\nc-dynamicarray\nmonitor_rank\nc-linklist\njava\nc-dynamicarray\nmonitor_rank\nc-linklist\njava\nc-dynamicarray\nmonitor_rank\nc-linklist\njava\nc-dynamicarray\nmonitor_rank\nc-linklist\njava\nc-dynamicarray\nmonitor_rank\nc-linklist\njava\nc-dynamicarray\nmonitor_rank\nc-linklist\njava\nc-dynamicarray\nmonitor_rank\nc-linklist\njava\nc-dynamicarray\nmonitor_rank\nc-linklist\njava\nc-dynamicarray\nmonitor_rank\nc-linklist\njava\nc-dynamicarray\nmonitor_rank\nc-linklist\njava\nc-dynamicarray\nmonitor_rank\nc-linklist\njava\nc-dynamicarray\nmonitor_rank\nc-linklist\njava\nc-dynamicarray\nmonitor_rank\nc-linklist\njava\nc-dynamicarray\nmonitor_rank\nc-linklist\njava\nc-dynamicarray\nmonitor_rank\nc-linklist\njava\nc-dynamicarray\nmonitor_rank\nc-linklist\njava\nc-dynamicarray\nmonitor_rank\nc-linklist\njava\nc-dynamicarray\nmonitor_rank\nc-linklist\njava\nc-dynamicarray\nmonitor_rank\nc-linklist\njava\nc-dynamicarray\nmonitor_rank\nc-linklist\njava\nc-dynamicarray\nmonitor_rank\nc-linklist\njava\nc-dynamicarray\nmonitor_rank\nc-linklist\njava\nc-dynamicarray\nmonitor_rank\nc-linklist\njava\nc-dynamicarray\nmonitor_rank\nc-linklist\njava\nc-dynamicarray\nmonitor_rank\nc-linklist\njava\nc-dynamicarray\nmonitor_rank\nc-linklist\njava\nc-dynamicarray\nmonitor_rank\nc-linklist\njava\nc-dynamicarray\nmonitor_rank\nc-linklist\njava\nc-dynamicarray\nmonitor_rank\nc-linklist\njava\nc-dynamicarray\nmonitor_rank\nc-linklist\njava\nc-dynamicarray\nmonitor_rank\nc-linklist\njava\nc-dynamicarray\nmonitor_rank\nc-linklist\njava\nc-dynamicarray\nmonitor_rank\nc-linklist\njava\nc-dynamicarray\nmonitor_rank\nc-linklist\njava\nc-dynamicarray\nmonitor_rank\nc-linklist\njava\nc-dynamicarray\nmonitor_rank\nc-linklist\njava\nc-dynamicarray\nmonitor_rank\nc-linklist\njava\nc-dynamicarray\nmonitor_rank\nc-linklist\njava\nc-dynamicarray\nmonitor_rank\nc-linklist\njava\nc-dynamicarray\nmonitor_rank\nc-linklist\njava\nc-dynamicarray\nmonitor_rank\nc-linklist\njava\nc-dynamicarray\nmonitor_rank\nc-linklist\njava\nc-dynamicarray\nmonitor_rank\nc-linklist\njava\nc-dynamicarray\nmonitor_rank\nc-linklist\njava\nc-dynamicarray\nmonitor_rank\nc-linklist\njava\nc-dynamicarray\nmonitor_rank\nc-linklist\njava\nc-dynamicarray\nmonitor_rank\nc-linklist\njava\nc-dynamicarray\nmonitor_rank\nc-linklist\njava\nc-dynamicarray\nmonitor_rank\nc-linklist\n"
     ]
    }
   ],
   "source": [
    "benchmarks = no_dupes([ d['metadata']['benchmark'] for d in data ])\n",
    "monitor_types = no_dupes([ d['metadata']['monitor_type'] for d in data ])\n",
    "\n",
    "data_table = {}\n",
    "#for monitor_type in monitor_types:\n",
    "#    data_table[monitor_type] = {}\n",
    "for d in data:\n",
    "    metadata = d['metadata']\n",
    "    monitor_type = metadata['monitor_type']\n",
    "    benchmark = metadata['benchmark']\n",
    "    if not benchmark in data_table:\n",
    "        data_table[benchmark] = {}\n",
    "    if not monitor_type in data_table[benchmark]:\n",
    "        data_table[benchmark][monitor_type] = {}\n",
    "    data_table[benchmark][monitor_type] = memory_comparison(d['memory'])\n",
    "    data_table[benchmark]['monitor_rank'] = monitor_ranking(data_table[benchmark])\n"
   ]
  },
  {
   "cell_type": "code",
   "execution_count": 17,
   "metadata": {
    "tags": []
   },
   "outputs": [],
   "source": [
    "os.mkdir('latex')\n",
    "for benchmark in data_table:\n",
    "    fname = \"latex/\"+benchmark+\"_memory-comparison.tex\"\n",
    "    with open(fname,'w')as fh:\n",
    "        df = pd.DataFrame.from_dict(data_table[benchmark])\n",
    "        fh.write( tabulate(df, headers='keys',tablefmt='latex') )"
   ]
  },
  {
   "cell_type": "code",
   "execution_count": null,
   "metadata": {},
   "outputs": [],
   "source": []
  }
 ]
}